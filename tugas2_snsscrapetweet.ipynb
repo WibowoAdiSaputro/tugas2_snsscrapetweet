{
  "nbformat": 4,
  "nbformat_minor": 0,
  "metadata": {
    "colab": {
      "provenance": [],
      "collapsed_sections": [],
      "authorship_tag": "ABX9TyNIsohIuar8pcgm+F4JHK+D",
      "include_colab_link": true
    },
    "kernelspec": {
      "name": "python3",
      "display_name": "Python 3"
    },
    "language_info": {
      "name": "python"
    }
  },
  "cells": [
    {
      "cell_type": "markdown",
      "metadata": {
        "id": "view-in-github",
        "colab_type": "text"
      },
      "source": [
        "<a href=\"https://colab.research.google.com/github/WibowoAdiSaputro/tugas2_snsscrapetweet/blob/main/tugas2_snsscrapetweet.ipynb\" target=\"_parent\"><img src=\"https://colab.research.google.com/assets/colab-badge.svg\" alt=\"Open In Colab\"/></a>"
      ]
    },
    {
      "cell_type": "markdown",
      "source": [
        "Langkah pertama sebelum kita melakukan klastering data pada twitter kita harus menginstall library snscrape. Kenapa library snscrape digunakan pada klastering kali ini karna mudah digunakan dan tidak perlu mengakses langsung Twitter API dengan access key atau token sehinggan tidak perlu menggunakan akun. "
      ],
      "metadata": {
        "id": "5PVkGoFkX9DS"
      }
    },
    {
      "cell_type": "code",
      "execution_count": 2,
      "metadata": {
        "colab": {
          "base_uri": "https://localhost:8080/"
        },
        "id": "C8812FJ44Yyd",
        "outputId": "3cd0ce09-5b20-4814-f3be-a09200a680c8"
      },
      "outputs": [
        {
          "output_type": "stream",
          "name": "stdout",
          "text": [
            "Looking in indexes: https://pypi.org/simple, https://us-python.pkg.dev/colab-wheels/public/simple/\n",
            "Collecting snscrape\n",
            "  Downloading snscrape-0.3.4-py3-none-any.whl (35 kB)\n",
            "Requirement already satisfied: requests[socks] in /usr/local/lib/python3.7/dist-packages (from snscrape) (2.23.0)\n",
            "Requirement already satisfied: beautifulsoup4 in /usr/local/lib/python3.7/dist-packages (from snscrape) (4.6.3)\n",
            "Requirement already satisfied: lxml in /usr/local/lib/python3.7/dist-packages (from snscrape) (4.9.1)\n",
            "Requirement already satisfied: chardet<4,>=3.0.2 in /usr/local/lib/python3.7/dist-packages (from requests[socks]->snscrape) (3.0.4)\n",
            "Requirement already satisfied: certifi>=2017.4.17 in /usr/local/lib/python3.7/dist-packages (from requests[socks]->snscrape) (2022.9.24)\n",
            "Requirement already satisfied: idna<3,>=2.5 in /usr/local/lib/python3.7/dist-packages (from requests[socks]->snscrape) (2.10)\n",
            "Requirement already satisfied: urllib3!=1.25.0,!=1.25.1,<1.26,>=1.21.1 in /usr/local/lib/python3.7/dist-packages (from requests[socks]->snscrape) (1.24.3)\n",
            "Requirement already satisfied: PySocks!=1.5.7,>=1.5.6 in /usr/local/lib/python3.7/dist-packages (from requests[socks]->snscrape) (1.7.1)\n",
            "Installing collected packages: snscrape\n",
            "Successfully installed snscrape-0.3.4\n"
          ]
        }
      ],
      "source": [
        "!pip3 install snscrape\n"
      ]
    },
    {
      "cell_type": "markdown",
      "source": [
        "Langkah Kedua menginstall Library Langdetect yang berfungsi mengimplementasi ulang pustaka deteksi bahasa Google ke Python"
      ],
      "metadata": {
        "id": "IguWzgkWaD7w"
      }
    },
    {
      "cell_type": "code",
      "source": [
        "!pip install langdetect"
      ],
      "metadata": {
        "colab": {
          "base_uri": "https://localhost:8080/"
        },
        "id": "aOMHCcoz40Yd",
        "outputId": "7db6bd2a-f893-4af7-acc3-98b579ce3f4b"
      },
      "execution_count": 3,
      "outputs": [
        {
          "output_type": "stream",
          "name": "stdout",
          "text": [
            "Looking in indexes: https://pypi.org/simple, https://us-python.pkg.dev/colab-wheels/public/simple/\n",
            "Collecting langdetect\n",
            "  Downloading langdetect-1.0.9.tar.gz (981 kB)\n",
            "\u001b[K     |████████████████████████████████| 981 kB 4.6 MB/s \n",
            "\u001b[?25hRequirement already satisfied: six in /usr/local/lib/python3.7/dist-packages (from langdetect) (1.15.0)\n",
            "Building wheels for collected packages: langdetect\n",
            "  Building wheel for langdetect (setup.py) ... \u001b[?25l\u001b[?25hdone\n",
            "  Created wheel for langdetect: filename=langdetect-1.0.9-py3-none-any.whl size=993242 sha256=7d313b13cc2faae6f3028931efc9903f3f76ba53da85deace07d05db5a5d6d02\n",
            "  Stored in directory: /root/.cache/pip/wheels/c5/96/8a/f90c59ed25d75e50a8c10a1b1c2d4c402e4dacfa87f3aff36a\n",
            "Successfully built langdetect\n",
            "Installing collected packages: langdetect\n",
            "Successfully installed langdetect-1.0.9\n"
          ]
        }
      ]
    },
    {
      "cell_type": "markdown",
      "source": [
        "langkah ketiga mengimport snscrape modul twitter dan json"
      ],
      "metadata": {
        "id": "56d8UilygMR1"
      }
    },
    {
      "cell_type": "code",
      "source": [
        "import snscrape.modules.twitter as sntwitter\n",
        "import json\n",
        "from langdetect import detect"
      ],
      "metadata": {
        "id": "qxT2YTg25DBp"
      },
      "execution_count": 4,
      "outputs": []
    },
    {
      "cell_type": "markdown",
      "source": [
        "langkah ke empat menentukan sesuatu yang ingin di cari datanya, disini saya mencari data dengan kata kunci Persija dari tanggal 1 september sampai tanggal 3 oktober 2022 dengan batas maksimum tweet pencarian 100 tweet dan bahasa yang bisa di tampilkan dalam bahasa indonesia dan bahasa inggris"
      ],
      "metadata": {
        "id": "UWoN9Cz4g1FF"
      }
    },
    {
      "cell_type": "code",
      "source": [
        "keywords=['Persija']\n",
        "start=\"2022–09–01\"\n",
        "end =\"2022–10–03\"\n",
        "max_num=100\n",
        "fname='tweet.json' \n",
        "languages=['id','en']"
      ],
      "metadata": {
        "id": "XB3kZoBR5J2K"
      },
      "execution_count": 5,
      "outputs": []
    },
    {
      "cell_type": "markdown",
      "source": [
        "langkah kelima mengimport library panda"
      ],
      "metadata": {
        "id": "RX7msxAyiK97"
      }
    },
    {
      "cell_type": "code",
      "source": [
        "import pandas as pd\n",
        "datatw=[]"
      ],
      "metadata": {
        "id": "7aRgZ0rz5VMd"
      },
      "execution_count": 6,
      "outputs": []
    },
    {
      "cell_type": "markdown",
      "source": [
        "langkah ke enam melakukan proses scrapping tweet berdasarkan data yang sudah ada sebelumnya."
      ],
      "metadata": {
        "id": "My-huLEJiSSv"
      }
    },
    {
      "cell_type": "code",
      "source": [
        "for keyword in keywords:\n",
        "   \n",
        "    for i, tweet in enumerate (sntwitter.TwitterSearchScraper(f'{keyword} ').get_items()):\n",
        "        \n",
        "        try:\n",
        "            lan=detect(tweet.content)\n",
        "        except:\n",
        "            lan='error'\n",
        "        if i == max_num:\n",
        "            break\n",
        "        if lan in languages:\n",
        "            data = {'id': tweet.id, 'username':tweet.username, 'date': tweet.date, 'text': tweet.content,'url':tweet.url}\n",
        "           # print(data)\n",
        "            datatw.append(tweet.content)\n",
        "            with open(fname, 'a+', encoding='utf-8') as f:\n",
        "                line = json.dumps(data, ensure_ascii=False,default=str)\n",
        "                #print(line)\n",
        "                f.write(line)\n",
        "                f.write('\\n')"
      ],
      "metadata": {
        "id": "sHDpkYNG5b3i"
      },
      "execution_count": 7,
      "outputs": []
    },
    {
      "cell_type": "code",
      "source": [
        "datatw"
      ],
      "metadata": {
        "colab": {
          "base_uri": "https://localhost:8080/"
        },
        "id": "LaDt8sIT5isM",
        "outputId": "7a9052b8-9936-4a56-ef8e-a113a3043949"
      },
      "execution_count": 8,
      "outputs": [
        {
          "output_type": "execute_result",
          "data": {
            "text/plain": [
              "['@rinaldihadii @Persija_Jkt Yoi tanggal 2 November',\n",
              " '@bentargantinama @Persija_Jkt Ngupi mas',\n",
              " 'Intip Kecanggihan Bus Operasional Terbaru Milik Persija Jakarta Bermesin Mercedes Benz https://t.co/PA0JUtVPxt',\n",
              " 'Canggih! Intip Fasilitas Bus Baru Persija Jakarta Skylander R22 - https://t.co/G1Z8aE8UZD https://t.co/0WyF6nu6j9',\n",
              " 'Persija Punya Bus Baru, Intip Kemewahan Fiturnya - https://t.co/nU6NHunyDB https://t.co/MMqf0echCe',\n",
              " 'Jadwal Liga 1 Terbaru Akhirnya Keluar, Duel Persib Bandung vs Persija Dihadiri Penonton Terbatas https://t.co/4C4B7BIjyl',\n",
              " '@IeFarhad @Persija_Jkt @aniesbaswedan @ArizaPatria A hog a hog a hog',\n",
              " '@bhangantho @Persija_Jkt @aniesbaswedan @ArizaPatria YNTKTS https://t.co/ddUybT6w4K',\n",
              " '@Persija_Jkt Awas kena prank pssi 😂',\n",
              " '@itumenyehatkan @basyaridisini @Persija_Jkt @aniesbaswedan @ArizaPatria A hog siapa sih ?\\nGa terkenal',\n",
              " '@manggip17 @Kentalmanis__ @keantod @agungpams03 @Persija_Jkt @aniesbaswedan @ArizaPatria Ga pernah ngerasain di PHPin si a hog kali ya',\n",
              " '@Persija_Jkt yang dibangun apa?',\n",
              " 'Canggih! Yuk intip fasilitas bus baru Persija Jakarta Skylander R22\\nhttps://t.co/wL52xjMVm8',\n",
              " '@tvOneNews Ya sudah.\\nJadikan dia presiden persija.',\n",
              " '@CNNIndonesia Kok gak ada kata2 buat persija ya tu stadion. 😅\\n\\nhttps://t.co/hKXrQFZEEp',\n",
              " 'apakah ada yg punya gc nctzen yg rameee? Ama gc persija? Mau gabung dong😭',\n",
              " 'Canggih! Intip Fasilitas\\xa0Bus Baru Persija Jakarta Skylander R22 https://t.co/WX4ldpmYZZ baca juga berita dari media lainnya di Indonesia di https://t.co/GkwQxRUMd1 \\n\\n#persijajakarta #busbarupersijajakarta #r22 #liga120222023 #liga1',\n",
              " '@damprad Tidak ada tilang yang sebanding dengan cinta',\n",
              " '@Persija_Jkt Jadi nih main lagi tgl 7?',\n",
              " '@basyaridisini @Persija_Jkt @aniesbaswedan @ArizaPatria yg ngomong diehard nya Anies - Sandi loh. Bukan gw atau pendukung Jokowi - Ahok 😝',\n",
              " '☀\\u06dd☀ Gak Ada Tim Sehebat Persija Jakarta ☀\\u06dd☀',\n",
              " '@Persija_Jkt Liga mulai kapan lagi min infonya?',\n",
              " '@Persija_Jkt Jadwal terbaru udah rilis?',\n",
              " '@CupangBos @aniesbaswedan @DKIJakarta ga prnh.. apalagi stadion nya 80% pake dana dr pusat itu alikasi nya utk PEN.. dana perbaikan ekonomi krn covid malah bangun stadion. mending klo bermanfaat... persija nya GA BS PAKE.. malah sewa stadion di bekasi.. itulah klo kerja cm pencitraan.. ga manfaat 😜 😜',\n",
              " '@Persija_Jkt Liga lanjuut utk Sementara Tanpa Penonton siih kayaknya..',\n",
              " '@The_RedsIndo Halaand belum pernah bobol persija dan persib sampe saat ini.',\n",
              " '@agungpams03 @Persija_Jkt @aniesbaswedan @ArizaPatria Hadeuh bocah2, dikit2 politik. Apa nanti ketika persib bilang tks kpd RK atau PSIS bilang tks kpd GP atas pengabdian yg trlah diberikan kpd provinsi tmpat mereka mngabdi, kamu akan bilang sprti itu jg?',\n",
              " '@Persija_Jkt Gasss gak sabar nunggu persija main lagi',\n",
              " '@manttabudjana @PoeAmran @SAMMONIN @Moch_herianto @musniumar Yakin?\\nBuktinya lu tau janji jokowi soal stadion persija? \\nLu tau yg dikatakan ahok? \\nJadi ngak usah berfikir semua penerus akan melanjutkan program pendahulunya\\nDan satu lagi, prestasi jokowi di balaikota apa ya?',\n",
              " '@Persija_Jkt Bola lagi',\n",
              " 'setelah kabar tanggal 7 liga lanjut, skrg Persija mulai latihan. yuk bisa yuk lanjut, lanjutin formnya juga!❤ https://t.co/Ou8Krofbgw',\n",
              " 'Jadwal Persib Bandung vs Persija Jakarta Telah FIX? Luis Milla Siapkan Program Khusus Ini! https://t.co/vOFriHhf1j\\n\\nNico Robin Ferdy Sambi El Rumi Seabank Selena 50 MEGAPIXEL wasit Hailey',\n",
              " 'Jadwal Persib Bandung vs Persija Jakarta Telah FIX? Luis Milla Siapkan Program Khusus Ini! https://t.co/EHnkOswp79\\n\\nNico Robin Ferdy Sambi El Rumi Seabank Selena 50 MEGAPIXEL wasit Hailey',\n",
              " '@JAKebagusan @aniesbaswedan @jakintstadium @Persija_Jkt Wkwk',\n",
              " 'Update Persib Bandung: Luis Milla Siapkan Program Khusus Jelang Bergulirnya Liga 1, Kontra Persija FIX? https://t.co/B8mnrLmVdX\\n\\nFerdy Sambo Bang Jago\\n#IndonesiaMemanggil El Rumi Dita wasit Isyana #LukasEnembePenjahatPolitik',\n",
              " 'Update Persib Bandung: Luis Milla Siapkan Program Khusus Jelang Bergulirnya Liga 1, Kontra Persija FIX? https://t.co/oHqHZQv0qL\\n\\nFerdy Sambo Bang Jago\\n#IndonesiaMemanggil El Rumi Dita wasit Isyana #LukasEnembePenjahatPolitik',\n",
              " '@sulaimaneffendi inviting your comment about this\\n\\nadding:\\n@Conspirare_JKT @FOS_PERSIJA @_AwayDay @LowSide_12',\n",
              " 'Persita x Persija\\nJakarta International Stadium (JIS)\\n😂😆 https://t.co/fBrZ9OErt8',\n",
              " 'Terima kasih pak @aniesbaswedan sdh menepati janjinya membangun stadion untk JAKarta &amp; @Persija_Jkt 👆🏻👆🏻👆🏻\\n\\nSehat selalu pak @aniesbaswedan 🙏🏻🙏🏻🙏🏻 https://t.co/9SyAQsY39w',\n",
              " '@Persija_Jkt Pertanda Liga segera di mulai ❤️',\n",
              " '@Persija_Jkt Mulai tanggal berapa latihannya ?',\n",
              " '@starfess selamat datang di persija (persatuan istri jaehyun)😌😌😌',\n",
              " '@Persija_Jkt Persija Sawangan',\n",
              " '@agungpams03 @Persija_Jkt @aniesbaswedan @ArizaPatria Mang gak boleh ngucapin terimakasih ngab kan pa anies gubernur DKI klo ngucapin ke gubernur banten ga sinkron sama kaya otak loe ga sinkron',\n",
              " '@Persija_Jkt Hah? Liga mau lanjut lagi?',\n",
              " '@Persija_Jkt Apa ini pertanda liga mau mulai',\n",
              " '@Persija_Jkt Semangat semangat \\U0001fae1',\n",
              " '@Persija_Jkt Oke, tanda liga akan kembali lanjut yaa~',\n",
              " '@Persija_Jkt Ayo² macan, semangat ✊',\n",
              " '@aku_padaku @oemarch @wahju_wibowo @iIhamzada Berarti rusuh boleh yg penting g ada korban mati? \\nKenapa g pas lawan persija aja gini? Sama2 kalah?',\n",
              " 'Bersiap kembali ke SAWANGAN 💪\\n\\n#ToTheNextLevel #BelieveIn12 #PersijaJakarta https://t.co/eaFnotLTmD',\n",
              " 'Tontonan wajib itu emang\\nMadrid vs Barcelona\\nSpurs vs Arsenal\\nCity vs Liverpool\\nMU vs Liverpool\\nPersib vs Persija',\n",
              " '@DKIJakarta Ubah semua kebijakan dan nama2x aneh yg dibuat pak anis.kembalikan Jakarta jadi milik pribumi Betawi,kembalikan slogan2x kebahasa Indonesia yg baku dan yg selama ini dipakai.bersihkan pemprov dari kadrun.kalau bisa biarkan JIS jadi markas Persija tanpa sewa.',\n",
              " 'Kalo yg review anak BMC, bis @Persija_Jkt ini bisa meledak viewers youtubenya yah. Bisa di bedah dr sasis sampe velg alcoa nya. Dr toilet sampe leg rest. Sayang, adm persija kurang paham dunia perbisan nasional wkwkwk https://t.co/zEcLLdBFhx',\n",
              " '@ibn_sabiyl @indosupporter Usut tuntas itu usut juga ketika pemain Persija, Persib, Arema dan lainya yg dilempari suporter.\\n\\nBukti dan dokumentasi itu lengkap di YouTube',\n",
              " 'Ya ini kadang masih dinyanyikan. Mulai dari jaman bocah pertengahan 2000an nonton persija udah denger ini. Memang sudah dari dulu harus dihentikan lagu ini dgn alasan yg kang zen bilang dibawah. https://t.co/rV9ryrOjpg',\n",
              " '@priboemijakarta Bahasa binatang keluar semua dan pada demo di sulanjana dan satu lagi pada nyanyi persija anjing juga nyanyi an khas mereka 🤣😂',\n",
              " 'Ini sebagai bentuk ucapan terimakasih karena sudah membantu Persija untuk bermain di kota sendiri. 🧡',\n",
              " 'Terimakasih juga sudah mewujudkan harapan The Jak Mania, Persija punya rumah sendiri di kotanya. 2 rumah dihancurkan untuk kepentingan publik. Tugas anak² The Jak, merawat stadion ini seperti merawat klub kebanggaannya.',\n",
              " 'Dari pemrov DKI turun tangan untuk membersihkan GBK. Anak² The Jak juga tidak mau terima jadi, mereka ikut membantu membersihkan. Endingnya Persija angkat Piala di GBK.',\n",
              " 'Terimakasih Bapak Anies Baswedan, teringat waktu Persija vs Mitra Kukar. Laga penentuan gelar juara. Mungkin jika tanpa bantuan Bapak, Persija tidak bermain di GBK. Karena H-1, GBK digunakan untuk kegiatan keagamaan.',\n",
              " '@priboemijakarta Yeh itu kan slogan mereka kalo di rugikan pas lawan persija 🤣',\n",
              " '3 Pemain Persib yang Jarang Bermain tapi Bisa Diandalkan untuk Hadapi Persija https://t.co/PHM3gMIDBd',\n",
              " 'Akhirnya Jadwal Baru Liga 1 dan 2 Ditetapkan, Penonton Persib vs Persija Siap-siap Aturan Baru https://t.co/c8yuwPcT1S',\n",
              " '@priboemijakarta Wah bakal rame hastag persija anak papah ini mah kalo bener tanpa penonton 😂🤣',\n",
              " '@Inoe_182 @moschart @Store_Persib @Persija_Jkt Enya geus disalip, eh kalahka ngebut kabur, marukan rek diarah meur😂',\n",
              " '@Panembahan_alit @sardi_sartono @ruhutsitompul Yg ditanya gunanya untuk masyarakat dgn adanya Jis apa? Persija itu milik swasta, amanah apa?',\n",
              " '@Persija_Jkt @aniesbaswedan @ArizaPatria Ti ati min banyak buzzer kurang kerjaan🤭',\n",
              " '@zenrs Malang memang tak punya sosok figur seperti itu, beruntung Klub lain seperti Persija, Persib, Persebaya, Psm punya sosok yg cakap saat berbicara di media, lugas, tegas &amp; tanpa kompromi..... Suporter lain ini sebenarnya menunggu \"AYO, WHAT\\'S NEXT\"?',\n",
              " 'Pelatih Persib Bandung, Luis Milla, akhirnya memberikan libur panjang kepada anak asuhnya, mengikuti program dari Thomas Doll bersama Persija Jakarta.\\nhttps://t.co/UKzP24i4yq',\n",
              " 'Pelatih Persib Bandung, Luis Milla, akhirnya memberikan libur panjang kepada anak asuhnya, mengikuti program dari Thomas Doll bersama Persija Jakarta.\\nhttps://t.co/uUdOx4lHL5',\n",
              " '@bhangantho @Persija_Jkt @aniesbaswedan @ArizaPatria Bukanlah coba liat postingan2 akun persija yang lain pasti ada #ToTheNextLevel',\n",
              " '@Hypatia212 @Relawananies trs kok persija malah sewa stadion di bekasi tuuuh?... JIS itu SAAT INI blm layak buat dipakai PERSIJA... ngapain gt 😂',\n",
              " '@CNNIndonesia Mmg nya sdh brp kali Persija pakai Stadiun ini? 😁',\n",
              " '@Relawananies trs knp persija malah sewa stadion di bekasi? pan sdh dikasih JIS ama gubernur blekok?.. haha itulah klo kerja cm pencitraan.. jd ga manfaat... 😂',\n",
              " '@Persija_Jkt @aniesbaswedan @ArizaPatria Masih mending selevel bupati gianyar yg ngasih stadion ke bali united, se level gubernur, pssi atau bahkan presiden sekalipun belum nyampe kesana cara berpikirnya, apalagi sekelas suporter polosan...🤭',\n",
              " '@tvOneNews stadion yg gak bisa di pake persija🤣🤣🤣',\n",
              " '@tvOneNews terimakasih walau gak bisa buat main home persija,aneh',\n",
              " '@agungpams03 @Persija_Jkt @aniesbaswedan @ArizaPatria Lah, ngucapin terima kasih ko dianggap statement politik, mas?\\n\\nHidup ga melulu tentang politik lah. 😁',\n",
              " '\".. dalam perspektif sebagai pendukung Persija Jakarta–saya pikir mayoritas The Jak sepakat–Anies Baswedan telah meninggalkan kesan mendalam dengan sederet perhatian dan kepeduliannya terhadap Persija serta Jakmania\"\\n\\nhttps://t.co/4hdDfvMbPI',\n",
              " '@kangngabei @tvOneNews Tanya aja PT LIB, Persija nya mah udh ngajuin',\n",
              " '@bhangantho @DesiPurba14 @Persija_Jkt @aniesbaswedan @ArizaPatria Lah emang dilarang dukung mendukung ?',\n",
              " 'Malam Ini Timnas U 20 Indonesia Berangkat ke Eropa, Kiper Persija Menyusul || TIMNAS\\xa0INDONESIA https://t.co/LcsS77KsKx',\n",
              " 'Terimakasih pak @aniesbaswedan untuk 5 tahun membangun Jakarta.\\nBanyak kemajuan, dan ada kekurangan.\\nJanji janji yang tepenuhi, terutama membangun stadion untuk @Persija_Jkt .',\n",
              " '@Persija_Jkt @aniesbaswedan @ArizaPatria Semoga Persija tidak dukung pak anis 2024.karena JIS tidak benar2x jadi kandang persija.jis itu milik pemprov dan bisa disewa kegiatan apapun.termasuk agenda kadrun.minta pak Jokowi sebagai presiden agar JIS mutlak milik Persija,sebab dananyapun dari pusat juga ada.',\n",
              " '@medioclubID Ada cerita manisnya juga kok (kalo masih muda), Andritany dulu kiper ketiga di Persija, sekarang gak tergantikan.',\n",
              " 'Begini Kecanggihan Bus Baru Skylander R22 Milik Klub Persija Jakarta\\nhttps://t.co/a22f0A7JRf',\n",
              " '@JakmaniaKP Dan keadilan yang seadil-adilnya #UsutTuntasTragediKanjuruhan',\n",
              " '@bhangantho @Persija_Jkt @aniesbaswedan @ArizaPatria PAKE AKUN REAL GOBLOOOKKKK BUZZER!!!']"
            ]
          },
          "metadata": {},
          "execution_count": 8
        }
      ]
    },
    {
      "cell_type": "markdown",
      "source": [
        "langkah ke tujuh menginstall library sastrawi, kenapa library sastrawi karena dapat mengubah kata imbuhan menjadi bentuk dasarnya"
      ],
      "metadata": {
        "id": "g-lVy8sej02e"
      }
    },
    {
      "cell_type": "code",
      "source": [
        "!pip install Sastrawi"
      ],
      "metadata": {
        "colab": {
          "base_uri": "https://localhost:8080/"
        },
        "id": "VLWkdQL06F0w",
        "outputId": "efb2e77d-d96e-407a-b66b-6659bfdc699f"
      },
      "execution_count": 9,
      "outputs": [
        {
          "output_type": "stream",
          "name": "stdout",
          "text": [
            "Looking in indexes: https://pypi.org/simple, https://us-python.pkg.dev/colab-wheels/public/simple/\n",
            "Collecting Sastrawi\n",
            "  Downloading Sastrawi-1.0.1-py2.py3-none-any.whl (209 kB)\n",
            "\u001b[K     |████████████████████████████████| 209 kB 5.2 MB/s \n",
            "\u001b[?25hInstalling collected packages: Sastrawi\n",
            "Successfully installed Sastrawi-1.0.1\n"
          ]
        }
      ]
    },
    {
      "cell_type": "markdown",
      "source": [
        "langkah ke delapan mengimport library, melakukan proses stemming, case folding dan filtering"
      ],
      "metadata": {
        "id": "jW_1CE5lj7vW"
      }
    },
    {
      "cell_type": "code",
      "source": [
        "import re\n",
        "import string\n",
        "from Sastrawi.Stemmer.StemmerFactory import StemmerFactory# create stemmer\n",
        "factory = StemmerFactory()\n",
        "stemmer = factory.create_stemmer()# stemming process\n",
        "# import StopWordRemoverFactory class\n",
        "from Sastrawi.StopWordRemover.StopWordRemoverFactory import StopWordRemoverFactory\n",
        "factory = StopWordRemoverFactory()\n",
        "stopword = factory.create_stop_word_remover()\n",
        "documents_clean=[]\n",
        "\n",
        "for d in datatw:\n",
        "    outputstem= stemmer.stem(d)\n",
        "    d= stopword.remove(outputstem)\n",
        "    # Remove Unicode\n",
        "    document_test = re.sub(r'[^\\x00-\\x7F]+', ' ', d)\n",
        "    # Remove Mentions\n",
        "    document_test = re.sub(r'@\\w+', '', document_test)\n",
        "    # Lowercase the document\n",
        "    document_test = document_test.lower()\n",
        "    # Remove punctuations\n",
        "    document_test = re.sub(r'[%s]' % re.escape(string.punctuation), ' ', document_test)\n",
        "    # Lowercase the numbers\n",
        "    document_test = re.sub(r'[0-9]', '', document_test)\n",
        "    # Remove the doubled space\n",
        "    outputstop = re.sub(r'\\s{2,}', ' ', document_test)\n",
        "    documents_clean.append(outputstop)"
      ],
      "metadata": {
        "id": "E__q7a-f6Ydy"
      },
      "execution_count": 10,
      "outputs": []
    },
    {
      "cell_type": "code",
      "source": [
        "documents_clean[0:5]"
      ],
      "metadata": {
        "colab": {
          "base_uri": "https://localhost:8080/"
        },
        "id": "4ax3yq8a7ULP",
        "outputId": "b0569797-a5ab-4771-a183-8e155a5e9a07"
      },
      "execution_count": 11,
      "outputs": [
        {
          "output_type": "execute_result",
          "data": {
            "text/plain": [
              "['rinaldihadii persija jkt yoi tanggal november',\n",
              " 'bentargantinama persija jkt ngupi mas',\n",
              " 'intip canggih bus operasional baru milik persija jakarta mesin mercedes benz https t co pajutvpxt',\n",
              " 'canggih intip fasilitas bus baru persija jakarta skylander r https t co gzaeuzd https t co wyfnuj',\n",
              " 'persija punya bus baru intip mewah fiturnya https t co nunhunydb https t co mmqfechce']"
            ]
          },
          "metadata": {},
          "execution_count": 11
        }
      ]
    },
    {
      "cell_type": "markdown",
      "source": [
        "langkah ke sembilan melakukan metode TfidfVectorizer untuk mempertimbangkan apakah data tersebut relevan/informatif terhadapa isi dokumen"
      ],
      "metadata": {
        "id": "yw3MjulAl5E3"
      }
    },
    {
      "cell_type": "code",
      "source": [
        "from sklearn.feature_extraction.text import TfidfVectorizer\n",
        "import pandas as pd\n",
        "tfidfvectorizer = TfidfVectorizer(analyzer='word')\n",
        "tfidf_wm = tfidfvectorizer.fit_transform(documents_clean)\n",
        "tfidf_tokens = tfidfvectorizer.get_feature_names()"
      ],
      "metadata": {
        "colab": {
          "base_uri": "https://localhost:8080/"
        },
        "id": "0iSM8THAoBBM",
        "outputId": "bf90fda2-4307-4cb9-c7ad-15547ee80988"
      },
      "execution_count": 12,
      "outputs": [
        {
          "output_type": "stream",
          "name": "stderr",
          "text": [
            "/usr/local/lib/python3.7/dist-packages/sklearn/utils/deprecation.py:87: FutureWarning: Function get_feature_names is deprecated; get_feature_names is deprecated in 1.0 and will be removed in 1.2. Please use get_feature_names_out instead.\n",
            "  warnings.warn(msg, category=FutureWarning)\n"
          ]
        }
      ]
    },
    {
      "cell_type": "markdown",
      "source": [
        "langkah ke sepuluh mengimport library, melakukan metode CountVectorizer untuk menghitung frekuensi data dalam dokumen."
      ],
      "metadata": {
        "id": "TKtI8PkgmV0B"
      }
    },
    {
      "cell_type": "code",
      "source": [
        "from sklearn.feature_extraction.text import CountVectorizer \n",
        "import matplotlib.pyplot as plt\n",
        "import numpy as np # linear algebra\n",
        "import pandas as pd # data processing, CSV file I/O (e.g. pd.read_csv)\n",
        "cv = CountVectorizer()\n",
        "words = cv.fit_transform(documents_clean)\n",
        "sum_words = words.sum(axis=0)\n",
        "\n",
        "\n",
        "words_freq = [(word, sum_words[0, idx]) for word, idx in cv.vocabulary_.items()]\n",
        "words_freq = sorted(words_freq, key = lambda x: x[1], reverse = True)\n",
        "frequency = pd.DataFrame(words_freq, columns=['word', 'freq'])\n",
        "\n",
        "color = plt.cm.twilight(np.linspace(0, 1, 20))\n",
        "frequency.head(20).plot(x='word', y='freq', kind='bar', figsize=(15, 7), color = color)\n",
        "plt.title(\"Most Frequently Occuring Words - Top 20\")"
      ],
      "metadata": {
        "colab": {
          "base_uri": "https://localhost:8080/",
          "height": 543
        },
        "id": "0GB3swWopSfF",
        "outputId": "0fb5ec28-c0c9-4187-9fb9-7a6b9a566166"
      },
      "execution_count": 13,
      "outputs": [
        {
          "output_type": "execute_result",
          "data": {
            "text/plain": [
              "Text(0.5, 1.0, 'Most Frequently Occuring Words - Top 20')"
            ]
          },
          "metadata": {},
          "execution_count": 13
        },
        {
          "output_type": "display_data",
          "data": {
            "text/plain": [
              "<Figure size 1080x504 with 1 Axes>"
            ],
            "image/png": "[encoded data removed]"
          },
          "metadata": {
            "needs_background": "light"
          }
        }
      ]
    },
    {
      "cell_type": "markdown",
      "source": [
        "langkah ke sebelas mengimport library k-means clustering "
      ],
      "metadata": {
        "id": "58MtLXR1m89f"
      }
    },
    {
      "cell_type": "code",
      "source": [
        "from sklearn.cluster import KMeans\n",
        "true_k = 3\n",
        "model = KMeans(n_clusters=true_k, init='k-means++', max_iter=100, n_init=1)\n",
        "model.fit(words)"
      ],
      "metadata": {
        "colab": {
          "base_uri": "https://localhost:8080/"
        },
        "id": "DCC9EBW1pkZ9",
        "outputId": "7e0f5957-8314-4bec-ac33-bc703c16d620"
      },
      "execution_count": 14,
      "outputs": [
        {
          "output_type": "execute_result",
          "data": {
            "text/plain": [
              "KMeans(max_iter=100, n_clusters=3, n_init=1)"
            ]
          },
          "metadata": {},
          "execution_count": 14
        }
      ]
    },
    {
      "cell_type": "markdown",
      "source": [
        "langkah ke dua belas menampilkan hasil cluster "
      ],
      "metadata": {
        "id": "n5aVvOvwneCc"
      }
    },
    {
      "cell_type": "code",
      "source": [
        "order_centroids = model.cluster_centers_.argsort()[:, ::-1]\n",
        "terms = cv.get_feature_names()\n",
        "\n",
        "for i in range(true_k):\n",
        "    print(\"Cluster %d:\" % i),\n",
        "    for ind in order_centroids[i, :10]:\n",
        "        print(' %s' % terms[ind]),\n",
        "    print\n",
        "\n",
        "print(\"\\n\")"
      ],
      "metadata": {
        "colab": {
          "base_uri": "https://localhost:8080/"
        },
        "id": "LKGx-_jdpsw5",
        "outputId": "bac8a30d-4b13-4e87-de69-b80502a931c9"
      },
      "execution_count": 15,
      "outputs": [
        {
          "output_type": "stream",
          "name": "stdout",
          "text": [
            "Cluster 0:\n",
            " persija\n",
            " jkt\n",
            " co\n",
            " https\n",
            " aniesbaswedan\n",
            " yg\n",
            " arizapatria\n",
            " jakarta\n",
            " stadion\n",
            " liga\n",
            "Cluster 1:\n",
            " wasit\n",
            " ferdy\n",
            " co\n",
            " persib\n",
            " persija\n",
            " luis\n",
            " siap\n",
            " rumi\n",
            " fix\n",
            " khusus\n",
            "Cluster 2:\n",
            " bilang\n",
            " kpd\n",
            " tks\n",
            " abdi\n",
            " kamu\n",
            " aniesbaswedan\n",
            " persija\n",
            " persib\n",
            " apa\n",
            " arizapatria\n",
            "\n",
            "\n"
          ]
        },
        {
          "output_type": "stream",
          "name": "stderr",
          "text": [
            "/usr/local/lib/python3.7/dist-packages/sklearn/utils/deprecation.py:87: FutureWarning: Function get_feature_names is deprecated; get_feature_names is deprecated in 1.0 and will be removed in 1.2. Please use get_feature_names_out instead.\n",
            "  warnings.warn(msg, category=FutureWarning)\n"
          ]
        }
      ]
    },
    {
      "cell_type": "markdown",
      "source": [
        "langkah ke tiga belas yaitu mencoba untuk memprediksi cluster kata berdasarkan model yang sudah dibuat"
      ],
      "metadata": {
        "id": "pxwzrWSmnqyr"
      }
    },
    {
      "cell_type": "code",
      "source": [
        "print(\"Prediction\")\n",
        "Y = cv.transform([\"stadion\"])\n",
        "prediction = model.predict(Y)\n",
        "print(\"Cluster number :\", prediction)\n",
        "Y = cv.transform([\"jis\"])\n",
        "prediction = model.predict(Y)\n",
        "print(\"Cluster number :\", prediction)"
      ],
      "metadata": {
        "colab": {
          "base_uri": "https://localhost:8080/"
        },
        "id": "G5qCM-gKoyav",
        "outputId": "c3928fd6-b52d-45c2-8bd5-6f61ba055a63"
      },
      "execution_count": 16,
      "outputs": [
        {
          "output_type": "stream",
          "name": "stdout",
          "text": [
            "Prediction\n",
            "Cluster number : [0]\n",
            "Cluster number : [0]\n"
          ]
        }
      ]
    },
    {
      "cell_type": "markdown",
      "source": [
        "langkah ke empat belas menampilkan grafik dendogram dengan metode ward linkage"
      ],
      "metadata": {
        "id": "5k-Do8qNqD7w"
      }
    },
    {
      "cell_type": "code",
      "source": [
        "import scipy.cluster.hierarchy as sch\n",
        "X = cv.fit_transform(documents_clean).todense()\n",
        "dendrogram = sch.dendrogram(sch.linkage(X, method = 'ward',metric='euclidean'),orientation=\"top\")\n",
        "plt.title('Dendrogram')\n",
        "plt.xlabel('Jarak Ward')\n",
        "plt.ylabel('Nomor Dokumen')\n",
        "plt.show()"
      ],
      "metadata": {
        "colab": {
          "base_uri": "https://localhost:8080/",
          "height": 292
        },
        "id": "iqCkzpRTpx1-",
        "outputId": "3b4537bd-30ed-4145-b45a-6b2c7e5ae01d"
      },
      "execution_count": null,
      "outputs": [
        {
          "output_type": "display_data",
          "data": {
            "text/plain": [
              "<Figure size 432x288 with 1 Axes>"
            ],
            "image/png": "[encoded data removed]"
          },
          "metadata": {
            "needs_background": "light"
          }
        }
      ]
    },
    {
      "cell_type": "markdown",
      "source": [
        "langkah ke lima belas menampilkan hasil dendogram dengan metode average linkage"
      ],
      "metadata": {
        "id": "Y3Ai4Sd4qkgb"
      }
    },
    {
      "cell_type": "code",
      "source": [
        "import scipy.cluster.hierarchy as sch\n",
        "X = cv.fit_transform(documents_clean).todense()\n",
        "dendrogram = sch.dendrogram(sch.linkage(X, method = 'average',metric='euclidean'),orientation=\"right\")\n",
        "plt.title('Dendrogram')\n",
        "plt.xlabel('Jarak Rerata')\n",
        "plt.ylabel('Nomor Dokumen')\n",
        "plt.show()"
      ],
      "metadata": {
        "colab": {
          "base_uri": "https://localhost:8080/",
          "height": 295
        },
        "id": "unTEQ-kMqMIg",
        "outputId": "421eb5df-1398-48ff-9926-d4dbdaebd7a0"
      },
      "execution_count": null,
      "outputs": [
        {
          "output_type": "display_data",
          "data": {
            "text/plain": [
              "<Figure size 432x288 with 1 Axes>"
            ],
            "image/png": "[encoded data removed]"
          },
          "metadata": {
            "needs_background": "light"
          }
        }
      ]
    },
    {
      "cell_type": "markdown",
      "source": [
        "langkah ke enam belas menampilkan hasil dengan algoritma Agglomerative Clustering + prediksi clusternya"
      ],
      "metadata": {
        "id": "weNBp4Zlqvxt"
      }
    },
    {
      "cell_type": "code",
      "source": [
        "from sklearn.cluster import AgglomerativeClustering\n",
        "\n",
        "cluster = AgglomerativeClustering(n_clusters=6, affinity='euclidean', linkage='ward')  \n",
        "cluster.fit_predict(X) \n",
        "print(cluster.labels_)"
      ],
      "metadata": {
        "colab": {
          "base_uri": "https://localhost:8080/"
        },
        "id": "mk2jCNvUqpJ0",
        "outputId": "0864ece0-43f1-4d40-d0b6-b0fe0d921444"
      },
      "execution_count": null,
      "outputs": [
        {
          "output_type": "stream",
          "name": "stdout",
          "text": [
            "[0 0 0 0 0 0 0 0 0 0 2 0 0 0 0 0 0 0 0 0 1 0 0 0 4 0 0 5 4 4 0 0 0 0 5 1 0\n",
            " 0 0 0 0 0 5 4 0 0 0 5 4 0 0 0 0 5 0 0 0 0 0 4 0 0 0 4 4 0 5 4 5 0 5 0 5 0\n",
            " 0 0 5 0 5 0 5 0 0 2 1 5 5 5 5 0 5 3]\n"
          ]
        },
        {
          "output_type": "stream",
          "name": "stderr",
          "text": [
            "/usr/local/lib/python3.7/dist-packages/sklearn/utils/validation.py:598: FutureWarning: np.matrix usage is deprecated in 1.0 and will raise a TypeError in 1.2. Please convert to a numpy array with np.asarray. For more information see: https://numpy.org/doc/stable/reference/generated/numpy.matrix.html\n",
            "  FutureWarning,\n"
          ]
        }
      ]
    },
    {
      "cell_type": "markdown",
      "source": [
        "langkah ke tujuh belas Menggabungkan Cluster + Menampilkan Dendrogram dengan orientasi \"Top\" dengan metode single linkage"
      ],
      "metadata": {
        "id": "rzv8ikRNrNPE"
      }
    },
    {
      "cell_type": "code",
      "source": [
        "from scipy.cluster.hierarchy import dendrogram, linkage\n",
        "from matplotlib import pyplot as plt\n",
        "\n",
        "linked = linkage(X, 'single')\n",
        "\n",
        "labelList = range(0, len(cluster.labels_))\n",
        "\n",
        "plt.figure(figsize=(15, 10))\n",
        "dendrogram(linked,\n",
        "            orientation='top',\n",
        "            labels=labelList,\n",
        "            distance_sort='descending',\n",
        "            show_leaf_counts=True)\n",
        "plt.show()"
      ],
      "metadata": {
        "colab": {
          "base_uri": "https://localhost:8080/",
          "height": 588
        },
        "id": "v24CfNAYqwP8",
        "outputId": "19e70b52-318c-4354-8f7c-50c13121d672"
      },
      "execution_count": null,
      "outputs": [
        {
          "output_type": "display_data",
          "data": {
            "text/plain": [
              "<Figure size 1080x720 with 1 Axes>"
            ],
            "image/png": "[encoded data removed]"
          },
          "metadata": {
            "needs_background": "light"
          }
        }
      ]
    },
    {
      "cell_type": "markdown",
      "source": [
        "langkah terakhir yaitu proses  HC (Agglomerative) + Prediksi Cluster-nya"
      ],
      "metadata": {
        "id": "Lv8KexC3rkCh"
      }
    },
    {
      "cell_type": "code",
      "source": [
        "from sklearn.cluster import AgglomerativeClustering\n",
        "\n",
        "cluster = AgglomerativeClustering(n_clusters=6, affinity='euclidean', linkage='single')  \n",
        "cluster.fit_predict(X) \n",
        "print(cluster.labels_)"
      ],
      "metadata": {
        "colab": {
          "base_uri": "https://localhost:8080/"
        },
        "id": "Bo449we_rYTd",
        "outputId": "1cdea6c6-09ed-4724-ba5f-c1fe9a084ea8"
      },
      "execution_count": null,
      "outputs": [
        {
          "output_type": "stream",
          "name": "stdout",
          "text": [
            "[0 0 0 0 0 0 0 0 0 0 0 0 0 0 0 0 0 0 0 0 5 0 0 0 0 0 0 0 0 0 0 0 0 0 0 3 0\n",
            " 0 0 0 0 0 0 0 0 0 0 0 0 0 0 0 0 0 0 0 0 0 0 0 0 0 0 0 0 0 0 0 0 0 0 0 0 0\n",
            " 0 0 0 0 0 0 0 0 0 4 2 0 0 0 0 0 0 1]\n"
          ]
        },
        {
          "output_type": "stream",
          "name": "stderr",
          "text": [
            "/usr/local/lib/python3.7/dist-packages/sklearn/utils/validation.py:598: FutureWarning: np.matrix usage is deprecated in 1.0 and will raise a TypeError in 1.2. Please convert to a numpy array with np.asarray. For more information see: https://numpy.org/doc/stable/reference/generated/numpy.matrix.html\n",
            "  FutureWarning,\n"
          ]
        }
      ]
    }
  ]
}